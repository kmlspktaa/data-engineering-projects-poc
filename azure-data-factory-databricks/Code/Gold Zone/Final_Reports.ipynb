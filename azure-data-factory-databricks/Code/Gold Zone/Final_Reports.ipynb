{
 "cells": [
  {
   "cell_type": "markdown",
   "metadata": {
    "application/vnd.databricks.v1+cell": {
     "cellMetadata": {
      "byteLimit": 2048000,
      "rowLimit": 10000
     },
     "inputWidgets": {},
     "nuid": "e3068cd5-a29d-46d5-981a-6fbd80f6987c",
     "showTitle": false,
     "title": ""
    }
   },
   "source": [
    "#Creating a Delta Table in Gold Zone with below Details:\n",
    "#1.Fetching the highest number of rides by month per driver and  highest number of trips and highest spent customer by month & by the year.\n",
    "#2.Fetching the top rated driver for by the year. \n",
    "#3.Fetching the highest spent customer & highest distance travelled customer."
   ]
  },
  {
   "cell_type": "code",
   "execution_count": 0,
   "metadata": {
    "application/vnd.databricks.v1+cell": {
     "cellMetadata": {
      "byteLimit": 2048000,
      "rowLimit": 10000
     },
     "inputWidgets": {},
     "nuid": "8e74f9be-8a4a-4025-8db1-64d5c7bb025b",
     "showTitle": false,
     "title": ""
    }
   },
   "outputs": [],
   "source": [
    "from pyspark.sql.functions import broadcast\n",
    "import pyspark.sql.functions as F"
   ]
  },
  {
   "cell_type": "code",
   "execution_count": 0,
   "metadata": {
    "application/vnd.databricks.v1+cell": {
     "cellMetadata": {
      "byteLimit": 2048000,
      "rowLimit": 10000
     },
     "inputWidgets": {},
     "nuid": "cdcc43cb-cf5d-4192-939c-d12f5c29735e",
     "showTitle": false,
     "title": ""
    }
   },
   "outputs": [],
   "source": [
    "df1=spark.read.load(\"/mnt/Deltalake/silver_Zone/Trip_Transactions_Fact\")"
   ]
  },
  {
   "cell_type": "code",
   "execution_count": 0,
   "metadata": {
    "application/vnd.databricks.v1+cell": {
     "cellMetadata": {
      "byteLimit": 2048000,
      "rowLimit": 10000
     },
     "inputWidgets": {},
     "nuid": "34395117-b82f-49f5-a678-73e16aaac717",
     "showTitle": false,
     "title": ""
    }
   },
   "outputs": [],
   "source": [
    "df2=spark.read.load(\"/mnt/Deltalake/silver_Zone/Customer_Dimension\")"
   ]
  },
  {
   "cell_type": "code",
   "execution_count": 0,
   "metadata": {
    "application/vnd.databricks.v1+cell": {
     "cellMetadata": {
      "byteLimit": 2048000,
      "rowLimit": 10000
     },
     "inputWidgets": {},
     "nuid": "b679fc63-fc70-41b0-8c44-9050ea931905",
     "showTitle": false,
     "title": ""
    }
   },
   "outputs": [],
   "source": [
    "df3=spark.read.load(\"/mnt/Deltalake/silver_Zone/driver_Dimension\")"
   ]
  },
  {
   "cell_type": "code",
   "execution_count": 0,
   "metadata": {
    "application/vnd.databricks.v1+cell": {
     "cellMetadata": {
      "byteLimit": 2048000,
      "rowLimit": 10000
     },
     "inputWidgets": {},
     "nuid": "9d3066dc-c464-44e0-9ae4-8eae66a8f48e",
     "showTitle": false,
     "title": ""
    }
   },
   "outputs": [],
   "source": [
    "df4=spark.read.load(\"/mnt/Deltalake/silver_Zone/Date_Dimension\")"
   ]
  },
  {
   "cell_type": "code",
   "execution_count": 0,
   "metadata": {
    "application/vnd.databricks.v1+cell": {
     "cellMetadata": {
      "byteLimit": 2048000,
      "rowLimit": 10000
     },
     "inputWidgets": {},
     "nuid": "0f4b45ea-d081-4c73-a39f-bb14d834aa7c",
     "showTitle": false,
     "title": ""
    }
   },
   "outputs": [],
   "source": [
    "df5=df1.join(broadcast(df2),df1.customer_id==df2.Customer_id)"
   ]
  },
  {
   "cell_type": "code",
   "execution_count": 0,
   "metadata": {
    "application/vnd.databricks.v1+cell": {
     "cellMetadata": {
      "byteLimit": 2048000,
      "rowLimit": 10000
     },
     "inputWidgets": {},
     "nuid": "9699f2b2-e5fe-4bf8-b0ff-b4f1b2206378",
     "showTitle": false,
     "title": ""
    }
   },
   "outputs": [
    {
     "output_type": "stream",
     "name": "stdout",
     "output_type": "stream",
     "text": [
      "Out[7]: 3"
     ]
    }
   ],
   "source": [
    "df5.rdd.getNumPartitions()"
   ]
  },
  {
   "cell_type": "code",
   "execution_count": 0,
   "metadata": {
    "application/vnd.databricks.v1+cell": {
     "cellMetadata": {
      "byteLimit": 2048000,
      "rowLimit": 10000
     },
     "inputWidgets": {},
     "nuid": "e18d36d1-ad66-4341-8933-1789f6ecae41",
     "showTitle": false,
     "title": ""
    }
   },
   "outputs": [],
   "source": [
    "df5=df5.select(\"trip_id\",\"Customer_Name\",\"customer_age\",\"customer_gender\",\"Trip_Date\",\"driver_id\",\"total_distance\",\"total_fare\",\"driver_id\")"
   ]
  },
  {
   "cell_type": "code",
   "execution_count": 0,
   "metadata": {
    "application/vnd.databricks.v1+cell": {
     "cellMetadata": {
      "byteLimit": 2048000,
      "rowLimit": 10000
     },
     "inputWidgets": {},
     "nuid": "288816dc-7808-4186-9dac-e3361a810ac5",
     "showTitle": false,
     "title": ""
    }
   },
   "outputs": [],
   "source": [
    "df6=df5.join(broadcast(df3),df3.driver_id==df5.driver_id)"
   ]
  },
  {
   "cell_type": "code",
   "execution_count": 0,
   "metadata": {
    "application/vnd.databricks.v1+cell": {
     "cellMetadata": {
      "byteLimit": 2048000,
      "rowLimit": 10000
     },
     "inputWidgets": {},
     "nuid": "081f6ca4-b295-408e-9909-03574d2fa032",
     "showTitle": false,
     "title": ""
    }
   },
   "outputs": [],
   "source": [
    "df6=df6.select(\"trip_id\",\"Customer_Name\",\"customer_age\",\"customer_gender\",\"Trip_Date\",\"total_distance\",\"total_fare\",\"driver_name\",\"driver_age\",\"driver_gender\")"
   ]
  },
  {
   "cell_type": "code",
   "execution_count": 0,
   "metadata": {
    "application/vnd.databricks.v1+cell": {
     "cellMetadata": {
      "byteLimit": 2048000,
      "rowLimit": 10000
     },
     "inputWidgets": {},
     "nuid": "6083e97f-226d-4fea-89f7-2b884d2401d9",
     "showTitle": false,
     "title": ""
    }
   },
   "outputs": [],
   "source": [
    "df7=df6.join(df4,df4.date==df6.Trip_Date)"
   ]
  },
  {
   "cell_type": "code",
   "execution_count": 0,
   "metadata": {
    "application/vnd.databricks.v1+cell": {
     "cellMetadata": {
      "byteLimit": 2048000,
      "rowLimit": 10000
     },
     "inputWidgets": {},
     "nuid": "1911be75-ba15-44f5-801b-0672ea277b71",
     "showTitle": false,
     "title": ""
    }
   },
   "outputs": [],
   "source": [
    "df7.createOrReplaceTempView(\"df7\")"
   ]
  },
  {
   "cell_type": "markdown",
   "metadata": {
    "application/vnd.databricks.v1+cell": {
     "cellMetadata": {
      "byteLimit": 2048000,
      "rowLimit": 10000
     },
     "inputWidgets": {},
     "nuid": "24b6e71a-7228-4160-a641-66c7fbf17f0e",
     "showTitle": false,
     "title": ""
    }
   },
   "source": [
    "Highest Spent & Highest distance travelled by Customer"
   ]
  },
  {
   "cell_type": "code",
   "execution_count": 0,
   "metadata": {
    "application/vnd.databricks.v1+cell": {
     "cellMetadata": {
      "byteLimit": 2048000,
      "implicitDf": true,
      "rowLimit": 10000
     },
     "inputWidgets": {},
     "nuid": "43483f39-e861-4bac-bcb8-cfa2cf20d5f5",
     "showTitle": false,
     "title": ""
    }
   },
   "outputs": [],
   "source": [
    "df_customer_spent_distance=spark.sql(\"select customer_name, rank_total_distance,rank_total_fare ,total_distance,total_fare , rank_trips_count ,concat(month,year) as month_year,trips_count from (select customer_name, rank() over(partition by month,year order by total_distance desc)as rank_total_distance, rank() over(partition by month,year order by total_fare  desc) as rank_total_fare, total_distance,total_fare,month,year, rank() over(partition by month,year order by trips_count desc ) as rank_trips_count,trips_count from (select customer_name,sum(total_fare) as total_fare,month,year,sum(total_distance) as total_distance,count(trip_id) as trips_count from df7 group by customer_name,month,year)) where rank_total_distance=1 or rank_total_fare=1 or rank_trips_count=1 order by concat(month,year)\")"
   ]
  },
  {
   "cell_type": "code",
   "execution_count": 0,
   "metadata": {
    "application/vnd.databricks.v1+cell": {
     "cellMetadata": {},
     "inputWidgets": {},
     "nuid": "373f602e-91db-4074-b9a4-985cdb1307bb",
     "showTitle": false,
     "title": ""
    }
   },
   "outputs": [],
   "source": []
  },
  {
   "cell_type": "markdown",
   "metadata": {
    "application/vnd.databricks.v1+cell": {
     "cellMetadata": {
      "byteLimit": 2048000,
      "rowLimit": 10000
     },
     "inputWidgets": {},
     "nuid": "2d49a016-a4a9-4a3c-935d-9ee04373e092",
     "showTitle": false,
     "title": ""
    }
   },
   "source": [
    "Highest Rating & Highest Trips travelled by Driver"
   ]
  },
  {
   "cell_type": "code",
   "execution_count": 0,
   "metadata": {
    "application/vnd.databricks.v1+cell": {
     "cellMetadata": {
      "byteLimit": 2048000,
      "implicitDf": true,
      "rowLimit": 10000
     },
     "inputWidgets": {},
     "nuid": "4a455306-467d-4342-a801-822e4a4d0fd1",
     "showTitle": false,
     "title": ""
    }
   },
   "outputs": [],
   "source": [
    "df_driver_trips=spark.sql(\"select driver_name, concat(month,year) as year_Month,count_trips from (select driver_name, rank() over(partition by month,year order by count_trips desc )as rank_count_trips,month,year,count_trips from (select driver_name,month,year,count(trip_id) as count_trips from df7 group by driver_name,month,year)) where rank_count_trips=1  order by concat(month,year)\")"
   ]
  },
  {
   "cell_type": "code",
   "execution_count": 0,
   "metadata": {
    "application/vnd.databricks.v1+cell": {
     "cellMetadata": {
      "byteLimit": 2048000,
      "rowLimit": 10000
     },
     "inputWidgets": {},
     "nuid": "585e0cd1-92c5-400a-96d0-e601107b5870",
     "showTitle": false,
     "title": ""
    }
   },
   "outputs": [],
   "source": [
    "df8=spark.read.load(\"/mnt/Deltalake/Bronze/Rewards_Points\")"
   ]
  },
  {
   "cell_type": "code",
   "execution_count": 0,
   "metadata": {
    "application/vnd.databricks.v1+cell": {
     "cellMetadata": {
      "byteLimit": 2048000,
      "rowLimit": 10000
     },
     "inputWidgets": {},
     "nuid": "7bc0450a-a1f6-488c-8b08-f8e4a7af6d3a",
     "showTitle": false,
     "title": ""
    }
   },
   "outputs": [],
   "source": [
    "df9=df8.join(df7,df7.trip_id==df8.trip_id)"
   ]
  },
  {
   "cell_type": "code",
   "execution_count": 0,
   "metadata": {
    "application/vnd.databricks.v1+cell": {
     "cellMetadata": {
      "byteLimit": 2048000,
      "rowLimit": 10000
     },
     "inputWidgets": {},
     "nuid": "6c364b80-abe2-4b84-8d21-4bce0baf924e",
     "showTitle": false,
     "title": ""
    }
   },
   "outputs": [],
   "source": [
    "df10=df9.groupBy(\"Customer_Name\",\"Month\",\"year\").sum(\"customer_rating\")"
   ]
  },
  {
   "cell_type": "code",
   "execution_count": 0,
   "metadata": {
    "application/vnd.databricks.v1+cell": {
     "cellMetadata": {
      "byteLimit": 2048000,
      "rowLimit": 10000
     },
     "inputWidgets": {},
     "nuid": "8cfdd846-8b9c-4a90-97f1-76aeabfd4a79",
     "showTitle": false,
     "title": ""
    }
   },
   "outputs": [],
   "source": [
    "df11=df10.withColumnRenamed(\"sum(customer_rating)\",\"Customer_Rating\")"
   ]
  },
  {
   "cell_type": "code",
   "execution_count": 0,
   "metadata": {
    "application/vnd.databricks.v1+cell": {
     "cellMetadata": {
      "byteLimit": 2048000,
      "rowLimit": 10000
     },
     "inputWidgets": {},
     "nuid": "6c7ad799-bc61-4656-bca4-290becc1ab6c",
     "showTitle": false,
     "title": ""
    }
   },
   "outputs": [],
   "source": [
    "df12=df9.groupBy(\"driver_name\",\"Month\",\"year\").sum(\"driver_rating\")"
   ]
  },
  {
   "cell_type": "code",
   "execution_count": 0,
   "metadata": {
    "application/vnd.databricks.v1+cell": {
     "cellMetadata": {
      "byteLimit": 2048000,
      "rowLimit": 10000
     },
     "inputWidgets": {},
     "nuid": "3d6057c1-bc4c-4cf8-b7e4-a3d25ac08350",
     "showTitle": false,
     "title": ""
    }
   },
   "outputs": [],
   "source": [
    "df13=df12.withColumnRenamed(\"sum(driver_rating)\",\"driver_Rating\")"
   ]
  },
  {
   "cell_type": "code",
   "execution_count": 0,
   "metadata": {
    "application/vnd.databricks.v1+cell": {
     "cellMetadata": {
      "byteLimit": 2048000,
      "rowLimit": 10000
     },
     "inputWidgets": {},
     "nuid": "84e85330-2a31-4e2e-89f1-15d7e8f8cebf",
     "showTitle": false,
     "title": ""
    }
   },
   "outputs": [],
   "source": [
    "df14=df13.withColumn(\"rank_driver_rating\",F.expr(\"rank() over(partition by concat(month,Year) order by driver_rating desc)\"))"
   ]
  },
  {
   "cell_type": "code",
   "execution_count": 0,
   "metadata": {
    "application/vnd.databricks.v1+cell": {
     "cellMetadata": {
      "byteLimit": 2048000,
      "rowLimit": 10000
     },
     "inputWidgets": {},
     "nuid": "538ffccc-bb96-4329-b1c4-349dae5b3ff0",
     "showTitle": false,
     "title": ""
    }
   },
   "outputs": [],
   "source": [
    "df15=df14.filter(df14.rank_driver_rating==1)"
   ]
  },
  {
   "cell_type": "code",
   "execution_count": 0,
   "metadata": {
    "application/vnd.databricks.v1+cell": {
     "cellMetadata": {
      "byteLimit": 2048000,
      "rowLimit": 10000
     },
     "inputWidgets": {},
     "nuid": "c16fdc3b-df22-4254-83c5-4ff5d4c43865",
     "showTitle": false,
     "title": ""
    }
   },
   "outputs": [
    {
     "output_type": "display_data",
     "data": {
      "text/html": [
       "<style scoped>\n  .table-result-container {\n    max-height: 300px;\n    overflow: auto;\n  }\n  table, th, td {\n    border: 1px solid black;\n    border-collapse: collapse;\n  }\n  th, td {\n    padding: 5px;\n  }\n  th {\n    text-align: left;\n  }\n</style><div class='table-result-container'><table class='table-result'><thead style='background-color: white'><tr><th>driver_name</th><th>Month</th><th>year</th><th>driver_Rating</th><th>rank_driver_rating</th></tr></thead><tbody><tr><td>Kapil</td><td>01</td><td>2023</td><td>124</td><td>1</td></tr><tr><td>Aaditya</td><td>02</td><td>2023</td><td>87</td><td>1</td></tr><tr><td>Kumar</td><td>03</td><td>2023</td><td>121</td><td>1</td></tr><tr><td>Nikshit</td><td>04</td><td>2023</td><td>115</td><td>1</td></tr><tr><td>Sam</td><td>05</td><td>2023</td><td>122</td><td>1</td></tr></tbody></table></div>"
      ]
     },
     "metadata": {
      "application/vnd.databricks.v1+output": {
       "addedWidgets": {},
       "aggData": [],
       "aggError": "",
       "aggOverflow": false,
       "aggSchema": [],
       "aggSeriesLimitReached": false,
       "aggType": "",
       "arguments": {},
       "columnCustomDisplayInfos": {},
       "data": [
        [
         "Kapil",
         "01",
         "2023",
         124,
         1
        ],
        [
         "Aaditya",
         "02",
         "2023",
         87,
         1
        ],
        [
         "Kumar",
         "03",
         "2023",
         121,
         1
        ],
        [
         "Nikshit",
         "04",
         "2023",
         115,
         1
        ],
        [
         "Sam",
         "05",
         "2023",
         122,
         1
        ]
       ],
       "datasetInfos": [],
       "dbfsResultPath": null,
       "isJsonSchema": true,
       "metadata": {},
       "overflow": false,
       "plotOptions": {
        "customPlotOptions": {},
        "displayType": "table",
        "pivotAggregation": null,
        "pivotColumns": null,
        "xColumns": null,
        "yColumns": null
       },
       "removedWidgets": [],
       "schema": [
        {
         "metadata": "{}",
         "name": "driver_name",
         "type": "\"string\""
        },
        {
         "metadata": "{}",
         "name": "Month",
         "type": "\"string\""
        },
        {
         "metadata": "{}",
         "name": "year",
         "type": "\"string\""
        },
        {
         "metadata": "{}",
         "name": "driver_Rating",
         "type": "\"long\""
        },
        {
         "metadata": "{}",
         "name": "rank_driver_rating",
         "type": "\"integer\""
        }
       ],
       "type": "table"
      }
     },
     "output_type": "display_data"
    }
   ],
   "source": [
    "df15.display()"
   ]
  },
  {
   "cell_type": "code",
   "execution_count": 0,
   "metadata": {
    "application/vnd.databricks.v1+cell": {
     "cellMetadata": {
      "byteLimit": 2048000,
      "rowLimit": 10000
     },
     "inputWidgets": {},
     "nuid": "15c4299c-4a15-4820-821a-8c4ff3666593",
     "showTitle": false,
     "title": ""
    }
   },
   "outputs": [],
   "source": [
    "df12=df11.groupBy(\"customer_name\",\"month\",\"year\").sum(\"customer_rating\")\n",
    "df12=df12.withColumnRenamed(\"sum(customer_rating)\",\"customer_rating\")\n",
    "df13=df12.withColumn(\"rank_customer_rating\",F.expr(\"rank() over(partition by concat(month,Year) order by customer_rating desc)\"))"
   ]
  },
  {
   "cell_type": "code",
   "execution_count": 0,
   "metadata": {
    "application/vnd.databricks.v1+cell": {
     "cellMetadata": {
      "byteLimit": 2048000,
      "rowLimit": 10000
     },
     "inputWidgets": {},
     "nuid": "8dd2e430-214d-4755-9fa0-c367aa4423bf",
     "showTitle": false,
     "title": ""
    }
   },
   "outputs": [],
   "source": [
    "df15=df13.filter(df13.rank_customer_rating==1)"
   ]
  },
  {
   "cell_type": "code",
   "execution_count": 0,
   "metadata": {
    "application/vnd.databricks.v1+cell": {
     "cellMetadata": {
      "byteLimit": 2048000,
      "rowLimit": 10000
     },
     "inputWidgets": {},
     "nuid": "33b408dc-4e1b-451f-b5ca-eb073c73ba2d",
     "showTitle": false,
     "title": ""
    }
   },
   "outputs": [
    {
     "output_type": "display_data",
     "data": {
      "text/html": [
       "<style scoped>\n  .table-result-container {\n    max-height: 300px;\n    overflow: auto;\n  }\n  table, th, td {\n    border: 1px solid black;\n    border-collapse: collapse;\n  }\n  th, td {\n    padding: 5px;\n  }\n  th {\n    text-align: left;\n  }\n</style><div class='table-result-container'><table class='table-result'><thead style='background-color: white'><tr><th>customer_name</th><th>month</th><th>year</th><th>customer_rating</th><th>rank_customer_rating</th></tr></thead><tbody><tr><td>ABC2</td><td>01</td><td>2023</td><td>124</td><td>1</td></tr><tr><td>ABC6</td><td>02</td><td>2023</td><td>89</td><td>1</td></tr><tr><td>ABC32</td><td>03</td><td>2023</td><td>120</td><td>1</td></tr><tr><td>ABC3</td><td>04</td><td>2023</td><td>116</td><td>1</td></tr><tr><td>ABC0</td><td>05</td><td>2023</td><td>120</td><td>1</td></tr></tbody></table></div>"
      ]
     },
     "metadata": {
      "application/vnd.databricks.v1+output": {
       "addedWidgets": {},
       "aggData": [],
       "aggError": "",
       "aggOverflow": false,
       "aggSchema": [],
       "aggSeriesLimitReached": false,
       "aggType": "",
       "arguments": {},
       "columnCustomDisplayInfos": {},
       "data": [
        [
         "ABC2",
         "01",
         "2023",
         124,
         1
        ],
        [
         "ABC6",
         "02",
         "2023",
         89,
         1
        ],
        [
         "ABC32",
         "03",
         "2023",
         120,
         1
        ],
        [
         "ABC3",
         "04",
         "2023",
         116,
         1
        ],
        [
         "ABC0",
         "05",
         "2023",
         120,
         1
        ]
       ],
       "datasetInfos": [],
       "dbfsResultPath": null,
       "isJsonSchema": true,
       "metadata": {},
       "overflow": false,
       "plotOptions": {
        "customPlotOptions": {},
        "displayType": "table",
        "pivotAggregation": null,
        "pivotColumns": null,
        "xColumns": null,
        "yColumns": null
       },
       "removedWidgets": [],
       "schema": [
        {
         "metadata": "{}",
         "name": "customer_name",
         "type": "\"string\""
        },
        {
         "metadata": "{}",
         "name": "month",
         "type": "\"string\""
        },
        {
         "metadata": "{}",
         "name": "year",
         "type": "\"string\""
        },
        {
         "metadata": "{}",
         "name": "customer_rating",
         "type": "\"long\""
        },
        {
         "metadata": "{}",
         "name": "rank_customer_rating",
         "type": "\"integer\""
        }
       ],
       "type": "table"
      }
     },
     "output_type": "display_data"
    }
   ],
   "source": [
    "df15.display()"
   ]
  },
  {
   "cell_type": "code",
   "execution_count": 0,
   "metadata": {
    "application/vnd.databricks.v1+cell": {
     "cellMetadata": {
      "byteLimit": 2048000,
      "rowLimit": 10000
     },
     "inputWidgets": {},
     "nuid": "ca380bf3-411b-4c6b-9caf-31814677f5b0",
     "showTitle": false,
     "title": ""
    }
   },
   "outputs": [],
   "source": [
    "df_customer_spent_distance.write.saveAsTable(\"df_customer_spent_distance\")"
   ]
  }
 ],
 "metadata": {
  "application/vnd.databricks.v1+notebook": {
   "dashboards": [],
   "language": "python",
   "notebookMetadata": {
    "mostRecentlyExecutedCommandWithImplicitDF": {
     "commandId": -1,
     "dataframes": [
      "_sqldf"
     ]
    },
    "pythonIndentUnit": 4
   },
   "notebookName": "Final_Reports",
   "notebookOrigID": 414574091445236,
   "widgets": {}
  }
 },
 "nbformat": 4,
 "nbformat_minor": 0
}
