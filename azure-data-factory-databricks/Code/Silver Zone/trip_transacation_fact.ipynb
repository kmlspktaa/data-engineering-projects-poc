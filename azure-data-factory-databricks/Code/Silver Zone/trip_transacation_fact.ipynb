{
 "cells": [
  {
   "cell_type": "markdown",
   "metadata": {
    "application/vnd.databricks.v1+cell": {
     "cellMetadata": {
      "byteLimit": 2048000,
      "rowLimit": 10000
     },
     "inputWidgets": {},
     "nuid": "61104a8a-260e-4481-be7c-c5c2d7358a0a",
     "showTitle": false,
     "title": ""
    }
   },
   "source": [
    "# Create Trip Transaction  Fact"
   ]
  },
  {
   "cell_type": "code",
   "execution_count": 0,
   "metadata": {
    "application/vnd.databricks.v1+cell": {
     "cellMetadata": {
      "byteLimit": 2048000,
      "rowLimit": 10000
     },
     "inputWidgets": {},
     "nuid": "76ef0950-686d-4cb7-8fe8-4b23db06dad9",
     "showTitle": false,
     "title": ""
    }
   },
   "outputs": [],
   "source": [
    "from delta.tables import *\n",
    "from pyspark.sql.functions import *\n",
    "import pyspark.sql.functions as F"
   ]
  },
  {
   "cell_type": "code",
   "execution_count": 0,
   "metadata": {
    "application/vnd.databricks.v1+cell": {
     "cellMetadata": {
      "byteLimit": 2048000,
      "rowLimit": 10000
     },
     "inputWidgets": {},
     "nuid": "ffa28010-ce72-48f0-bf58-334ce38a7ea7",
     "showTitle": false,
     "title": ""
    }
   },
   "outputs": [],
   "source": [
    "df1=spark.read.format(\"delta\").load(\"/mnt/Deltalake/Bronze/Trip_Transactions\")"
   ]
  },
  {
   "cell_type": "code",
   "execution_count": 0,
   "metadata": {
    "application/vnd.databricks.v1+cell": {
     "cellMetadata": {
      "byteLimit": 2048000,
      "rowLimit": 10000
     },
     "inputWidgets": {},
     "nuid": "0cf6945a-d6e5-4339-9235-5f7152c6da49",
     "showTitle": false,
     "title": ""
    }
   },
   "outputs": [],
   "source": [
    "df2=df1.select(\"trip_id\",\"trip_start_timestamp\",\"trip_end_timestamp\",\"trip_status\",\"total_fare\",\"total_distance\",\"delay_start_time_mins\",\"customer_id\",'driver_id')"
   ]
  },
  {
   "cell_type": "code",
   "execution_count": 0,
   "metadata": {
    "application/vnd.databricks.v1+cell": {
     "cellMetadata": {
      "byteLimit": 2048000,
      "rowLimit": 10000
     },
     "inputWidgets": {},
     "nuid": "ce576ddb-a3c2-4a7f-a5b8-f89f9ea991f2",
     "showTitle": false,
     "title": ""
    }
   },
   "outputs": [],
   "source": [
    "df2=df2.withColumn(\"Trip_Date\",F.expr(\"to_date(trip_start_timestamp)\"))"
   ]
  },
  {
   "cell_type": "code",
   "execution_count": 0,
   "metadata": {
    "application/vnd.databricks.v1+cell": {
     "cellMetadata": {
      "byteLimit": 2048000,
      "rowLimit": 10000
     },
     "inputWidgets": {},
     "nuid": "20f36d07-1af6-4a3c-bbce-8e1005f868ed",
     "showTitle": false,
     "title": ""
    }
   },
   "outputs": [],
   "source": [
    "df2.repartition(1).write.save(\"/mnt/Deltalake/silver_Zone/Trip_Transactions_Fact\")"
   ]
  },
  {
   "cell_type": "markdown",
   "metadata": {
    "application/vnd.databricks.v1+cell": {
     "cellMetadata": {
      "byteLimit": 2048000,
      "rowLimit": 10000
     },
     "inputWidgets": {},
     "nuid": "2feb4351-069a-4b13-a09c-52b0032436c3",
     "showTitle": false,
     "title": ""
    }
   },
   "source": [
    "#Incremental loads"
   ]
  },
  {
   "cell_type": "code",
   "execution_count": 0,
   "metadata": {
    "application/vnd.databricks.v1+cell": {
     "cellMetadata": {
      "byteLimit": 2048000,
      "rowLimit": 10000
     },
     "inputWidgets": {},
     "nuid": "76d80290-44fc-4a4e-94e2-02c9a394ba34",
     "showTitle": false,
     "title": ""
    }
   },
   "outputs": [],
   "source": [
    "df_upsert=spark.read.load(\"/mnt/Deltalake/Bronze/Trip_Transactions\")\n",
    "df_upsert=df_upsert.withColumn(\"trip_Date\",F.expr(\"to_date(trip_start_timestamp)\"))\n",
    "df_upsert=df_upsert.filter(df_upsert.trip_Date>=F.expr(\"Current_date-2\"))\n",
    "df_upsert=df_upsert.select(\"trip_id\",\"trip_start_timestamp\",\"trip_end_timestamp\",\"trip_status\",\"total_fare\",\"total_distance\",\"delay_start_time_mins\",\"customer_id\",\"driver_id\",\"trip_date\")"
   ]
  },
  {
   "cell_type": "code",
   "execution_count": 0,
   "metadata": {
    "application/vnd.databricks.v1+cell": {
     "cellMetadata": {
      "byteLimit": 2048000,
      "rowLimit": 10000
     },
     "inputWidgets": {},
     "nuid": "b8a8611d-ec12-4911-b4d9-556e2ee89ab0",
     "showTitle": false,
     "title": ""
    }
   },
   "outputs": [],
   "source": [
    "deltaTable = DeltaTable.forPath(spark, '/mnt/Deltalake/silver_Zone/Trip_Transactions_Fact')"
   ]
  },
  {
   "cell_type": "code",
   "execution_count": 0,
   "metadata": {
    "application/vnd.databricks.v1+cell": {
     "cellMetadata": {
      "byteLimit": 2048000,
      "rowLimit": 10000
     },
     "inputWidgets": {},
     "nuid": "a8e7a67f-1c16-46b7-a4f0-75749c2bd668",
     "showTitle": false,
     "title": ""
    }
   },
   "outputs": [],
   "source": [
    "deltaTable.alias(\"trip_transactions_base\").merge(\n",
    "              source = df_upsert.alias(\"updates\"),\n",
    "              condition = \"trip_transactions_base.trip_id = updates.trip_id\"\n",
    "            ).whenMatchedUpdateAll().whenNotMatchedInsertAll().execute()"
   ]
  },
  {
   "cell_type": "code",
   "execution_count": 0,
   "metadata": {
    "application/vnd.databricks.v1+cell": {
     "cellMetadata": {
      "byteLimit": 2048000,
      "rowLimit": 10000
     },
     "inputWidgets": {},
     "nuid": "e9d409e6-6a73-4dda-be27-8e0209987426",
     "showTitle": false,
     "title": ""
    }
   },
   "outputs": [
    {
     "output_type": "stream",
     "name": "stdout",
     "output_type": "stream",
     "text": [
      "Out[10]: DataFrame[Trip_Date: date]"
     ]
    }
   ],
   "source": [
    "spark.read.load('/mnt/Deltalake/silver_Zone/Trip_Transactions_Fact').select(\"Trip_Date\")"
   ]
  }
 ],
 "metadata": {
  "application/vnd.databricks.v1+notebook": {
   "dashboards": [],
   "language": "python",
   "notebookMetadata": {
    "pythonIndentUnit": 4
   },
   "notebookName": "trip_transacation_fact",
   "notebookOrigID": 639055602651964,
   "widgets": {}
  }
 },
 "nbformat": 4,
 "nbformat_minor": 0
}
