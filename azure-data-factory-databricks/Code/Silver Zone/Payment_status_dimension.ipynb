{
 "cells": [
  {
   "cell_type": "markdown",
   "metadata": {
    "application/vnd.databricks.v1+cell": {
     "cellMetadata": {},
     "inputWidgets": {},
     "nuid": "f688bee7-a795-4920-bc66-4624a71525ac",
     "showTitle": false,
     "title": ""
    }
   },
   "source": [
    "#Create a Payment Status dimension"
   ]
  },
  {
   "cell_type": "code",
   "execution_count": 0,
   "metadata": {
    "application/vnd.databricks.v1+cell": {
     "cellMetadata": {
      "byteLimit": 2048000,
      "rowLimit": 10000
     },
     "inputWidgets": {},
     "nuid": "07b36bce-6abe-4017-8c55-32072eb52de7",
     "showTitle": false,
     "title": ""
    }
   },
   "outputs": [],
   "source": [
    "from delta.tables import *\n",
    "from pyspark.sql.functions import *\n",
    "import pyspark.sql.functions as F"
   ]
  },
  {
   "cell_type": "code",
   "execution_count": 0,
   "metadata": {
    "application/vnd.databricks.v1+cell": {
     "cellMetadata": {
      "byteLimit": 2048000,
      "rowLimit": 10000
     },
     "inputWidgets": {},
     "nuid": "724972a0-0fd1-46b2-aa58-b82183e5b5f5",
     "showTitle": false,
     "title": ""
    }
   },
   "outputs": [],
   "source": [
    "df1=spark.read.load(\"/mnt/Deltalake/Bronze/Trip_Transactions\")"
   ]
  },
  {
   "cell_type": "code",
   "execution_count": 0,
   "metadata": {
    "application/vnd.databricks.v1+cell": {
     "cellMetadata": {
      "byteLimit": 2048000,
      "rowLimit": 10000
     },
     "inputWidgets": {},
     "nuid": "732adb56-7880-4d3c-8995-82a04cdcfbf6",
     "showTitle": false,
     "title": ""
    }
   },
   "outputs": [],
   "source": [
    "df2=df1.select(\"trip_id\",\"payment_method\",\"payment_Status\",\"trip_start_timestamp\")"
   ]
  },
  {
   "cell_type": "code",
   "execution_count": 0,
   "metadata": {
    "application/vnd.databricks.v1+cell": {
     "cellMetadata": {
      "byteLimit": 2048000,
      "rowLimit": 10000
     },
     "inputWidgets": {},
     "nuid": "707e3786-4ecd-44aa-9e0b-399e1f5b8ee8",
     "showTitle": false,
     "title": ""
    }
   },
   "outputs": [],
   "source": [
    "df2=df2.withColumn(\"Due_Date\",F.expr(\"to_date(trip_start_timestamp)+7\"))"
   ]
  },
  {
   "cell_type": "code",
   "execution_count": 0,
   "metadata": {
    "application/vnd.databricks.v1+cell": {
     "cellMetadata": {
      "byteLimit": 2048000,
      "rowLimit": 10000
     },
     "inputWidgets": {},
     "nuid": "ae9b9949-1b9f-4690-bb0e-1ad904df9003",
     "showTitle": false,
     "title": ""
    }
   },
   "outputs": [],
   "source": [
    "df2.repartition(1).write.save(\"/mnt/Deltalake/silver_Zone/Payment_Status_Dimension\")"
   ]
  }
 ],
 "metadata": {
  "application/vnd.databricks.v1+notebook": {
   "dashboards": [],
   "language": "python",
   "notebookMetadata": {
    "pythonIndentUnit": 4
   },
   "notebookName": "Payment_status_dimension",
   "notebookOrigID": 639055602651988,
   "widgets": {}
  }
 },
 "nbformat": 4,
 "nbformat_minor": 0
}
