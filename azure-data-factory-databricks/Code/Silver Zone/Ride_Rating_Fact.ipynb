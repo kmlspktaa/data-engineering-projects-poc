{
 "cells": [
  {
   "cell_type": "markdown",
   "metadata": {
    "application/vnd.databricks.v1+cell": {
     "cellMetadata": {},
     "inputWidgets": {},
     "nuid": "8ce506c3-d65c-4092-912a-8b6b948f9480",
     "showTitle": false,
     "title": ""
    }
   },
   "source": [
    "#Create a Ride Rating Fact"
   ]
  },
  {
   "cell_type": "code",
   "execution_count": null,
   "metadata": {
    "application/vnd.databricks.v1+cell": {
     "cellMetadata": {},
     "inputWidgets": {},
     "nuid": "dfc71265-0b73-4081-b1ec-34538d3eb3cb",
     "showTitle": false,
     "title": ""
    }
   },
   "outputs": [],
   "source": [
    "from delta.tables import *\n",
    "from pyspark.sql.functions import *\n",
    "import pyspark.sql.functions as F"
   ]
  },
  {
   "cell_type": "code",
   "execution_count": null,
   "metadata": {
    "application/vnd.databricks.v1+cell": {
     "cellMetadata": {
      "byteLimit": 2048000,
      "rowLimit": 10000
     },
     "inputWidgets": {},
     "nuid": "fc406550-00c3-4178-b876-429e8346d7ea",
     "showTitle": false,
     "title": ""
    }
   },
   "outputs": [],
   "source": [
    "df1=spark.read.load(\"/mnt/Deltalake/Bronze/Rewards_Points\")"
   ]
  },
  {
   "cell_type": "code",
   "execution_count": null,
   "metadata": {
    "application/vnd.databricks.v1+cell": {
     "cellMetadata": {
      "byteLimit": 2048000,
      "rowLimit": 10000
     },
     "inputWidgets": {},
     "nuid": "b8b5e2c7-2611-4394-8805-08562c91520b",
     "showTitle": false,
     "title": ""
    }
   },
   "outputs": [],
   "source": [
    "df1.repartition(1).write.save(\"/mnt/Deltalake/silver_Zone/ride_Rewards_Points_Fact\")"
   ]
  },
  {
   "cell_type": "code",
   "execution_count": null,
   "metadata": {
    "application/vnd.databricks.v1+cell": {
     "cellMetadata": {
      "byteLimit": 2048000,
      "rowLimit": 10000
     },
     "inputWidgets": {},
     "nuid": "1c7654a7-330a-4481-9cd7-3afe91c92834",
     "showTitle": false,
     "title": ""
    }
   },
   "outputs": [],
   "source": [
    "df_upsert=spark.read.load(\"/mnt/Deltalake/Bronze/Rewards_Points\")"
   ]
  }
 ],
 "metadata": {
  "application/vnd.databricks.v1+notebook": {
   "dashboards": [],
   "language": "python",
   "notebookMetadata": {
    "pythonIndentUnit": 4
   },
   "notebookName": "Ride_Rating_Fact",
   "notebookOrigID": 639055602651995,
   "widgets": {}
  },
  "language_info": {
   "name": "python"
  }
 },
 "nbformat": 4,
 "nbformat_minor": 0
}
