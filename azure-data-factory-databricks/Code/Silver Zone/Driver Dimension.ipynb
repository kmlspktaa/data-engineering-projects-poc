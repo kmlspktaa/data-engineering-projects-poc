{
 "cells": [
  {
   "cell_type": "markdown",
   "metadata": {
    "application/vnd.databricks.v1+cell": {
     "cellMetadata": {
      "byteLimit": 2048000,
      "rowLimit": 10000
     },
     "inputWidgets": {},
     "nuid": "7755808f-f579-4332-9da3-4eaa2a6093eb",
     "showTitle": true,
     "title": ""
    }
   },
   "source": [
    "# Create Driver Dimension"
   ]
  },
  {
   "cell_type": "code",
   "execution_count": 0,
   "metadata": {
    "application/vnd.databricks.v1+cell": {
     "cellMetadata": {
      "byteLimit": 2048000,
      "rowLimit": 10000
     },
     "inputWidgets": {},
     "nuid": "b017b846-82df-4a5c-8f5e-ad7d6612fb80",
     "showTitle": false,
     "title": ""
    }
   },
   "outputs": [],
   "source": [
    "import pyspark.sql.functions as F\n",
    "from random import randint\n",
    "from pyspark.sql.types import * "
   ]
  },
  {
   "cell_type": "code",
   "execution_count": 0,
   "metadata": {
    "application/vnd.databricks.v1+cell": {
     "cellMetadata": {
      "byteLimit": 2048000,
      "rowLimit": 10000
     },
     "inputWidgets": {},
     "nuid": "4ca9700e-f69d-4a61-a169-892a4a4535f7",
     "showTitle": false,
     "title": ""
    }
   },
   "outputs": [],
   "source": [
    "df1=spark.read.format(\"delta\").load(\"/mnt/Deltalake/Bronze/Trip_Transactions\")"
   ]
  },
  {
   "cell_type": "code",
   "execution_count": 0,
   "metadata": {
    "application/vnd.databricks.v1+cell": {
     "cellMetadata": {
      "byteLimit": 2048000,
      "rowLimit": 10000
     },
     "inputWidgets": {},
     "nuid": "187d6547-803f-4695-bb3d-d4788ce44c78",
     "showTitle": false,
     "title": ""
    }
   },
   "outputs": [],
   "source": [
    "df1.createOrReplaceTempView(\"df1\") "
   ]
  },
  {
   "cell_type": "code",
   "execution_count": 0,
   "metadata": {
    "application/vnd.databricks.v1+cell": {
     "cellMetadata": {
      "byteLimit": 2048000,
      "implicitDf": true,
      "rowLimit": 10000
     },
     "inputWidgets": {},
     "nuid": "dc818d55-0d85-4e2b-a337-a75baebdc5a5",
     "showTitle": false,
     "title": ""
    }
   },
   "outputs": [],
   "source": [
    "df2=spark.sql('select distinct driver_id,driver_name from df1')"
   ]
  },
  {
   "cell_type": "code",
   "execution_count": 0,
   "metadata": {
    "application/vnd.databricks.v1+cell": {
     "cellMetadata": {
      "byteLimit": 2048000,
      "rowLimit": 10000
     },
     "inputWidgets": {},
     "nuid": "e0b71f57-4241-4e69-9888-75d88bb8b967",
     "showTitle": false,
     "title": ""
    }
   },
   "outputs": [],
   "source": [
    "def driver_age(driver_id):\n",
    "    return randint(18,65)\n",
    "def driver_gender(driver_id):\n",
    "    if randint(0,2)==0:\n",
    "        return 'F'\n",
    "    else:\n",
    "        return \"M\"\n",
    "    "
   ]
  },
  {
   "cell_type": "code",
   "execution_count": 0,
   "metadata": {
    "application/vnd.databricks.v1+cell": {
     "cellMetadata": {
      "byteLimit": 2048000,
      "rowLimit": 10000
     },
     "inputWidgets": {},
     "nuid": "878f94a1-93c1-4f99-a757-a91ef348fa6a",
     "showTitle": false,
     "title": ""
    }
   },
   "outputs": [
    {
     "output_type": "stream",
     "name": "stdout",
     "output_type": "stream",
     "text": [
      "Out[21]: <function __main__.driver_gender(driver_id)>"
     ]
    }
   ],
   "source": [
    "spark.udf.register(\"driver_age\", driver_age,IntegerType())\n",
    "spark.udf.register(\"driver_gender\", driver_gender,StringType())"
   ]
  },
  {
   "cell_type": "code",
   "execution_count": 0,
   "metadata": {
    "application/vnd.databricks.v1+cell": {
     "cellMetadata": {
      "byteLimit": 2048000,
      "rowLimit": 10000
     },
     "inputWidgets": {},
     "nuid": "fed3364e-99d6-4c29-8f66-7cc6b945794f",
     "showTitle": false,
     "title": ""
    }
   },
   "outputs": [],
   "source": [
    "df2=df2.withColumn(\"driver_age\",F.expr(\"driver_age(driver_id)\"))\n",
    "df2=df2.withColumn(\"driver_gender\",F.expr(\"driver_gender(driver_id)\"))\n",
    "\n"
   ]
  },
  {
   "cell_type": "code",
   "execution_count": 0,
   "metadata": {
    "application/vnd.databricks.v1+cell": {
     "cellMetadata": {
      "byteLimit": 2048000,
      "rowLimit": 10000
     },
     "inputWidgets": {},
     "nuid": "a44f3794-f907-4d86-b63a-e06d603ab6d8",
     "showTitle": false,
     "title": ""
    }
   },
   "outputs": [
    {
     "output_type": "display_data",
     "data": {
      "text/html": [
       "<style scoped>\n  .table-result-container {\n    max-height: 300px;\n    overflow: auto;\n  }\n  table, th, td {\n    border: 1px solid black;\n    border-collapse: collapse;\n  }\n  th, td {\n    padding: 5px;\n  }\n  th {\n    text-align: left;\n  }\n</style><div class='table-result-container'><table class='table-result'><thead style='background-color: white'><tr><th>driver_id</th><th>driver_name</th><th>driver_age</th><th>driver_gender</th></tr></thead><tbody><tr><td>A33</td><td>Umesh</td><td>24</td><td>F</td></tr><tr><td>A10</td><td>Amith</td><td>51</td><td>M</td></tr><tr><td>A23</td><td>Dhruv</td><td>65</td><td>M</td></tr><tr><td>A5</td><td>Sagar</td><td>30</td><td>F</td></tr><tr><td>A40</td><td>Ramesh</td><td>56</td><td>M</td></tr><tr><td>A1</td><td>Ram</td><td>56</td><td>M</td></tr><tr><td>A4</td><td>Aaditya</td><td>45</td><td>M</td></tr><tr><td>A28</td><td>Jack</td><td>24</td><td>F</td></tr><tr><td>A21</td><td>Arun</td><td>64</td><td>M</td></tr><tr><td>null</td><td>null</td><td>18</td><td>F</td></tr><tr><td>A20</td><td>Vishal</td><td>34</td><td>M</td></tr><tr><td>A38</td><td>Ranjith</td><td>29</td><td>F</td></tr><tr><td>A18</td><td>Akash</td><td>59</td><td>M</td></tr><tr><td>A9</td><td>Sadru</td><td>61</td><td>M</td></tr><tr><td>A15</td><td>Dinesh</td><td>26</td><td>F</td></tr><tr><td>A37</td><td>Suresh</td><td>56</td><td>M</td></tr><tr><td>A34</td><td>Pranav</td><td>44</td><td>M</td></tr><tr><td>A29</td><td>Manohar</td><td>41</td><td>M</td></tr><tr><td>A36</td><td>Kapil</td><td>42</td><td>M</td></tr><tr><td>A32</td><td>Rahul</td><td>49</td><td>M</td></tr><tr><td>A39</td><td>Sadru</td><td>20</td><td>F</td></tr><tr><td>A3</td><td>Kevin</td><td>49</td><td>M</td></tr><tr><td>A16</td><td>Stephen</td><td>36</td><td>M</td></tr><tr><td>A26</td><td>Akhil</td><td>64</td><td>M</td></tr><tr><td>A19</td><td>Nihit</td><td>19</td><td>F</td></tr><tr><td>A24</td><td>Kumar</td><td>18</td><td>F</td></tr><tr><td>A27</td><td>Hima</td><td>31</td><td>F</td></tr><tr><td>A14</td><td>Andrew</td><td>41</td><td>M</td></tr><tr><td>A31</td><td>Nikshit</td><td>35</td><td>M</td></tr><tr><td>A30</td><td>Pavan</td><td>42</td><td>M</td></tr><tr><td>A35</td><td>Surya</td><td>50</td><td>M</td></tr><tr><td>A6</td><td>David</td><td>45</td><td>M</td></tr><tr><td>A7</td><td>Nivaan</td><td>44</td><td>M</td></tr><tr><td>A25</td><td>Gopal</td><td>50</td><td>M</td></tr><tr><td>A8</td><td>Aarav</td><td>51</td><td>M</td></tr><tr><td>A17</td><td>Steves</td><td>64</td><td>M</td></tr><tr><td>A2</td><td>Sam</td><td>60</td><td>M</td></tr><tr><td>A12</td><td>Nihal</td><td>34</td><td>M</td></tr><tr><td>A22</td><td>Ganesh</td><td>53</td><td>M</td></tr><tr><td>A13</td><td>Saatvik</td><td>50</td><td>M</td></tr><tr><td>A11</td><td>Ajay</td><td>63</td><td>M</td></tr></tbody></table></div>"
      ]
     },
     "metadata": {
      "application/vnd.databricks.v1+output": {
       "addedWidgets": {},
       "aggData": [],
       "aggError": "",
       "aggOverflow": false,
       "aggSchema": [],
       "aggSeriesLimitReached": false,
       "aggType": "",
       "arguments": {},
       "columnCustomDisplayInfos": {},
       "data": [
        [
         "A33",
         "Umesh",
         24,
         "F"
        ],
        [
         "A10",
         "Amith",
         51,
         "M"
        ],
        [
         "A23",
         "Dhruv",
         65,
         "M"
        ],
        [
         "A5",
         "Sagar",
         30,
         "F"
        ],
        [
         "A40",
         "Ramesh",
         56,
         "M"
        ],
        [
         "A1",
         "Ram",
         56,
         "M"
        ],
        [
         "A4",
         "Aaditya",
         45,
         "M"
        ],
        [
         "A28",
         "Jack",
         24,
         "F"
        ],
        [
         "A21",
         "Arun",
         64,
         "M"
        ],
        [
         null,
         null,
         18,
         "F"
        ],
        [
         "A20",
         "Vishal",
         34,
         "M"
        ],
        [
         "A38",
         "Ranjith",
         29,
         "F"
        ],
        [
         "A18",
         "Akash",
         59,
         "M"
        ],
        [
         "A9",
         "Sadru",
         61,
         "M"
        ],
        [
         "A15",
         "Dinesh",
         26,
         "F"
        ],
        [
         "A37",
         "Suresh",
         56,
         "M"
        ],
        [
         "A34",
         "Pranav",
         44,
         "M"
        ],
        [
         "A29",
         "Manohar",
         41,
         "M"
        ],
        [
         "A36",
         "Kapil",
         42,
         "M"
        ],
        [
         "A32",
         "Rahul",
         49,
         "M"
        ],
        [
         "A39",
         "Sadru",
         20,
         "F"
        ],
        [
         "A3",
         "Kevin",
         49,
         "M"
        ],
        [
         "A16",
         "Stephen",
         36,
         "M"
        ],
        [
         "A26",
         "Akhil",
         64,
         "M"
        ],
        [
         "A19",
         "Nihit",
         19,
         "F"
        ],
        [
         "A24",
         "Kumar",
         18,
         "F"
        ],
        [
         "A27",
         "Hima",
         31,
         "F"
        ],
        [
         "A14",
         "Andrew",
         41,
         "M"
        ],
        [
         "A31",
         "Nikshit",
         35,
         "M"
        ],
        [
         "A30",
         "Pavan",
         42,
         "M"
        ],
        [
         "A35",
         "Surya",
         50,
         "M"
        ],
        [
         "A6",
         "David",
         45,
         "M"
        ],
        [
         "A7",
         "Nivaan",
         44,
         "M"
        ],
        [
         "A25",
         "Gopal",
         50,
         "M"
        ],
        [
         "A8",
         "Aarav",
         51,
         "M"
        ],
        [
         "A17",
         "Steves",
         64,
         "M"
        ],
        [
         "A2",
         "Sam",
         60,
         "M"
        ],
        [
         "A12",
         "Nihal",
         34,
         "M"
        ],
        [
         "A22",
         "Ganesh",
         53,
         "M"
        ],
        [
         "A13",
         "Saatvik",
         50,
         "M"
        ],
        [
         "A11",
         "Ajay",
         63,
         "M"
        ]
       ],
       "datasetInfos": [],
       "dbfsResultPath": null,
       "isJsonSchema": true,
       "metadata": {},
       "overflow": false,
       "plotOptions": {
        "customPlotOptions": {},
        "displayType": "table",
        "pivotAggregation": null,
        "pivotColumns": null,
        "xColumns": null,
        "yColumns": null
       },
       "removedWidgets": [],
       "schema": [
        {
         "metadata": "{}",
         "name": "driver_id",
         "type": "\"string\""
        },
        {
         "metadata": "{}",
         "name": "driver_name",
         "type": "\"string\""
        },
        {
         "metadata": "{}",
         "name": "driver_age",
         "type": "\"integer\""
        },
        {
         "metadata": "{}",
         "name": "driver_gender",
         "type": "\"string\""
        }
       ],
       "type": "table"
      }
     },
     "output_type": "display_data"
    }
   ],
   "source": [
    "display(df2)"
   ]
  },
  {
   "cell_type": "code",
   "execution_count": 0,
   "metadata": {
    "application/vnd.databricks.v1+cell": {
     "cellMetadata": {
      "byteLimit": 2048000,
      "rowLimit": 10000
     },
     "inputWidgets": {},
     "nuid": "bfceaaba-6289-4aa7-9a79-924798ad12c9",
     "showTitle": false,
     "title": ""
    }
   },
   "outputs": [],
   "source": [
    "df2.repartition(1).write.save(\"/mnt/Deltalake/silver_Zone/driver_Dimension\")"
   ]
  }
 ],
 "metadata": {
  "application/vnd.databricks.v1+notebook": {
   "dashboards": [],
   "language": "python",
   "notebookMetadata": {
    "mostRecentlyExecutedCommandWithImplicitDF": {
     "commandId": -1,
     "dataframes": [
      "_sqldf"
     ]
    },
    "pythonIndentUnit": 4
   },
   "notebookName": "Driver Dimension",
   "notebookOrigID": 639055602651976,
   "widgets": {}
  }
 },
 "nbformat": 4,
 "nbformat_minor": 0
}
