{
 "cells": [
  {
   "cell_type": "markdown",
   "metadata": {
    "application/vnd.databricks.v1+cell": {
     "cellMetadata": {
      "byteLimit": 2048000,
      "rowLimit": 10000
     },
     "inputWidgets": {},
     "nuid": "7755808f-f579-4332-9da3-4eaa2a6093eb",
     "showTitle": true,
     "title": ""
    }
   },
   "source": [
    "# Create Customer Dimension"
   ]
  },
  {
   "cell_type": "code",
   "execution_count": 0,
   "metadata": {
    "application/vnd.databricks.v1+cell": {
     "cellMetadata": {
      "byteLimit": 2048000,
      "rowLimit": 10000
     },
     "inputWidgets": {},
     "nuid": "b017b846-82df-4a5c-8f5e-ad7d6612fb80",
     "showTitle": false,
     "title": ""
    }
   },
   "outputs": [],
   "source": [
    "import pyspark.sql.functions as F\n",
    "from random import randint\n",
    "from pyspark.sql.types import * "
   ]
  },
  {
   "cell_type": "code",
   "execution_count": 0,
   "metadata": {
    "application/vnd.databricks.v1+cell": {
     "cellMetadata": {
      "byteLimit": 2048000,
      "rowLimit": 10000
     },
     "inputWidgets": {},
     "nuid": "4ca9700e-f69d-4a61-a169-892a4a4535f7",
     "showTitle": false,
     "title": ""
    }
   },
   "outputs": [],
   "source": [
    "df1=spark.read.format(\"delta\").load(\"/mnt/Deltalake/Bronze/Trip_Transactions\")"
   ]
  },
  {
   "cell_type": "code",
   "execution_count": 0,
   "metadata": {
    "application/vnd.databricks.v1+cell": {
     "cellMetadata": {
      "byteLimit": 2048000,
      "rowLimit": 10000
     },
     "inputWidgets": {},
     "nuid": "187d6547-803f-4695-bb3d-d4788ce44c78",
     "showTitle": false,
     "title": ""
    }
   },
   "outputs": [],
   "source": [
    "df1.createOrReplaceTempView(\"df1\") "
   ]
  },
  {
   "cell_type": "code",
   "execution_count": 0,
   "metadata": {
    "application/vnd.databricks.v1+cell": {
     "cellMetadata": {
      "byteLimit": 2048000,
      "implicitDf": true,
      "rowLimit": 10000
     },
     "inputWidgets": {},
     "nuid": "dc818d55-0d85-4e2b-a337-a75baebdc5a5",
     "showTitle": false,
     "title": ""
    }
   },
   "outputs": [],
   "source": [
    "df2=spark.sql('select distinct customer_id,customer_name from df1')"
   ]
  },
  {
   "cell_type": "code",
   "execution_count": 0,
   "metadata": {
    "application/vnd.databricks.v1+cell": {
     "cellMetadata": {
      "byteLimit": 2048000,
      "rowLimit": 10000
     },
     "inputWidgets": {},
     "nuid": "e0b71f57-4241-4e69-9888-75d88bb8b967",
     "showTitle": false,
     "title": ""
    }
   },
   "outputs": [],
   "source": [
    "def customer_age(customer_id):\n",
    "    return randint(18,65)\n",
    "def customer_gender(customer_id):\n",
    "    if customer_id%2==0:\n",
    "        return 'M'\n",
    "    else:\n",
    "        return \"F\"\n",
    "    "
   ]
  },
  {
   "cell_type": "code",
   "execution_count": 0,
   "metadata": {
    "application/vnd.databricks.v1+cell": {
     "cellMetadata": {
      "byteLimit": 2048000,
      "rowLimit": 10000
     },
     "inputWidgets": {},
     "nuid": "878f94a1-93c1-4f99-a757-a91ef348fa6a",
     "showTitle": false,
     "title": ""
    }
   },
   "outputs": [
    {
     "output_type": "stream",
     "name": "stdout",
     "output_type": "stream",
     "text": [
      "Out[57]: <function __main__.customer_gender(customer_id)>"
     ]
    }
   ],
   "source": [
    "spark.udf.register(\"customer_age\", customer_age,IntegerType())\n",
    "spark.udf.register(\"customer_gender\", customer_gender,StringType())"
   ]
  },
  {
   "cell_type": "code",
   "execution_count": 0,
   "metadata": {
    "application/vnd.databricks.v1+cell": {
     "cellMetadata": {
      "byteLimit": 2048000,
      "rowLimit": 10000
     },
     "inputWidgets": {},
     "nuid": "fed3364e-99d6-4c29-8f66-7cc6b945794f",
     "showTitle": false,
     "title": ""
    }
   },
   "outputs": [],
   "source": [
    "df3=df3.withColumn(\"customer_age\",F.expr(\"customer_age(customer_id)\"))\n",
    "df3=df3.withColumn(\"customer_gender\",F.expr(\"customer_gender(customer_id)\"))\n",
    "\n"
   ]
  },
  {
   "cell_type": "code",
   "execution_count": 0,
   "metadata": {
    "application/vnd.databricks.v1+cell": {
     "cellMetadata": {
      "byteLimit": 2048000,
      "rowLimit": 10000
     },
     "inputWidgets": {},
     "nuid": "a44f3794-f907-4d86-b63a-e06d603ab6d8",
     "showTitle": false,
     "title": ""
    }
   },
   "outputs": [
    {
     "output_type": "display_data",
     "data": {
      "text/html": [
       "<style scoped>\n  .table-result-container {\n    max-height: 300px;\n    overflow: auto;\n  }\n  table, th, td {\n    border: 1px solid black;\n    border-collapse: collapse;\n  }\n  th, td {\n    padding: 5px;\n  }\n  th {\n    text-align: left;\n  }\n</style><div class='table-result-container'><table class='table-result'><thead style='background-color: white'><tr><th>Customer_id</th><th>Customer_Name</th><th>customer_age</th><th>customer_gender</th></tr></thead><tbody><tr><td>1</td><td>ABC0</td><td>28</td><td>F</td></tr><tr><td>2</td><td>ABC1</td><td>40</td><td>M</td></tr><tr><td>3</td><td>ABC2</td><td>45</td><td>F</td></tr><tr><td>4</td><td>ABC3</td><td>58</td><td>M</td></tr><tr><td>5</td><td>ABC4</td><td>59</td><td>F</td></tr><tr><td>6</td><td>ABC5</td><td>55</td><td>M</td></tr><tr><td>7</td><td>ABC6</td><td>23</td><td>F</td></tr><tr><td>8</td><td>ABC7</td><td>36</td><td>M</td></tr><tr><td>9</td><td>ABC8</td><td>65</td><td>F</td></tr><tr><td>10</td><td>ABC9</td><td>20</td><td>M</td></tr><tr><td>11</td><td>ABC10</td><td>45</td><td>F</td></tr><tr><td>12</td><td>ABC11</td><td>18</td><td>M</td></tr><tr><td>13</td><td>ABC12</td><td>34</td><td>F</td></tr><tr><td>14</td><td>ABC13</td><td>29</td><td>M</td></tr><tr><td>15</td><td>ABC14</td><td>36</td><td>F</td></tr><tr><td>16</td><td>ABC15</td><td>61</td><td>M</td></tr><tr><td>17</td><td>ABC16</td><td>27</td><td>F</td></tr><tr><td>18</td><td>ABC17</td><td>49</td><td>M</td></tr><tr><td>19</td><td>ABC18</td><td>56</td><td>F</td></tr><tr><td>20</td><td>ABC19</td><td>65</td><td>M</td></tr><tr><td>21</td><td>ABC20</td><td>60</td><td>F</td></tr><tr><td>22</td><td>ABC21</td><td>65</td><td>M</td></tr><tr><td>23</td><td>ABC22</td><td>22</td><td>F</td></tr><tr><td>24</td><td>ABC23</td><td>29</td><td>M</td></tr><tr><td>25</td><td>ABC24</td><td>25</td><td>F</td></tr><tr><td>26</td><td>ABC25</td><td>31</td><td>M</td></tr><tr><td>27</td><td>ABC26</td><td>65</td><td>F</td></tr><tr><td>28</td><td>ABC27</td><td>36</td><td>M</td></tr><tr><td>29</td><td>ABC28</td><td>38</td><td>F</td></tr><tr><td>30</td><td>ABC29</td><td>56</td><td>M</td></tr><tr><td>31</td><td>ABC30</td><td>53</td><td>F</td></tr><tr><td>32</td><td>ABC31</td><td>57</td><td>M</td></tr><tr><td>33</td><td>ABC32</td><td>31</td><td>F</td></tr><tr><td>34</td><td>ABC33</td><td>36</td><td>M</td></tr><tr><td>35</td><td>ABC34</td><td>31</td><td>F</td></tr><tr><td>36</td><td>ABC35</td><td>27</td><td>M</td></tr><tr><td>37</td><td>ABC36</td><td>60</td><td>F</td></tr><tr><td>38</td><td>ABC37</td><td>34</td><td>M</td></tr><tr><td>39</td><td>ABC38</td><td>25</td><td>F</td></tr><tr><td>40</td><td>ABC39</td><td>51</td><td>M</td></tr></tbody></table></div>"
      ]
     },
     "metadata": {
      "application/vnd.databricks.v1+output": {
       "addedWidgets": {},
       "aggData": [],
       "aggError": "",
       "aggOverflow": false,
       "aggSchema": [],
       "aggSeriesLimitReached": false,
       "aggType": "",
       "arguments": {},
       "columnCustomDisplayInfos": {},
       "data": [
        [
         1,
         "ABC0",
         28,
         "F"
        ],
        [
         2,
         "ABC1",
         40,
         "M"
        ],
        [
         3,
         "ABC2",
         45,
         "F"
        ],
        [
         4,
         "ABC3",
         58,
         "M"
        ],
        [
         5,
         "ABC4",
         59,
         "F"
        ],
        [
         6,
         "ABC5",
         55,
         "M"
        ],
        [
         7,
         "ABC6",
         23,
         "F"
        ],
        [
         8,
         "ABC7",
         36,
         "M"
        ],
        [
         9,
         "ABC8",
         65,
         "F"
        ],
        [
         10,
         "ABC9",
         20,
         "M"
        ],
        [
         11,
         "ABC10",
         45,
         "F"
        ],
        [
         12,
         "ABC11",
         18,
         "M"
        ],
        [
         13,
         "ABC12",
         34,
         "F"
        ],
        [
         14,
         "ABC13",
         29,
         "M"
        ],
        [
         15,
         "ABC14",
         36,
         "F"
        ],
        [
         16,
         "ABC15",
         61,
         "M"
        ],
        [
         17,
         "ABC16",
         27,
         "F"
        ],
        [
         18,
         "ABC17",
         49,
         "M"
        ],
        [
         19,
         "ABC18",
         56,
         "F"
        ],
        [
         20,
         "ABC19",
         65,
         "M"
        ],
        [
         21,
         "ABC20",
         60,
         "F"
        ],
        [
         22,
         "ABC21",
         65,
         "M"
        ],
        [
         23,
         "ABC22",
         22,
         "F"
        ],
        [
         24,
         "ABC23",
         29,
         "M"
        ],
        [
         25,
         "ABC24",
         25,
         "F"
        ],
        [
         26,
         "ABC25",
         31,
         "M"
        ],
        [
         27,
         "ABC26",
         65,
         "F"
        ],
        [
         28,
         "ABC27",
         36,
         "M"
        ],
        [
         29,
         "ABC28",
         38,
         "F"
        ],
        [
         30,
         "ABC29",
         56,
         "M"
        ],
        [
         31,
         "ABC30",
         53,
         "F"
        ],
        [
         32,
         "ABC31",
         57,
         "M"
        ],
        [
         33,
         "ABC32",
         31,
         "F"
        ],
        [
         34,
         "ABC33",
         36,
         "M"
        ],
        [
         35,
         "ABC34",
         31,
         "F"
        ],
        [
         36,
         "ABC35",
         27,
         "M"
        ],
        [
         37,
         "ABC36",
         60,
         "F"
        ],
        [
         38,
         "ABC37",
         34,
         "M"
        ],
        [
         39,
         "ABC38",
         25,
         "F"
        ],
        [
         40,
         "ABC39",
         51,
         "M"
        ]
       ],
       "datasetInfos": [],
       "dbfsResultPath": null,
       "isJsonSchema": true,
       "metadata": {},
       "overflow": false,
       "plotOptions": {
        "customPlotOptions": {},
        "displayType": "table",
        "pivotAggregation": null,
        "pivotColumns": null,
        "xColumns": null,
        "yColumns": null
       },
       "removedWidgets": [],
       "schema": [
        {
         "metadata": "{}",
         "name": "Customer_id",
         "type": "\"integer\""
        },
        {
         "metadata": "{}",
         "name": "Customer_Name",
         "type": "\"string\""
        },
        {
         "metadata": "{}",
         "name": "customer_age",
         "type": "\"integer\""
        },
        {
         "metadata": "{}",
         "name": "customer_gender",
         "type": "\"string\""
        }
       ],
       "type": "table"
      }
     },
     "output_type": "display_data"
    }
   ],
   "source": [
    "display(df3)"
   ]
  },
  {
   "cell_type": "code",
   "execution_count": 0,
   "metadata": {
    "application/vnd.databricks.v1+cell": {
     "cellMetadata": {
      "byteLimit": 2048000,
      "rowLimit": 10000
     },
     "inputWidgets": {},
     "nuid": "bfceaaba-6289-4aa7-9a79-924798ad12c9",
     "showTitle": false,
     "title": ""
    }
   },
   "outputs": [],
   "source": [
    "df3.repartition(1).write.save(\"/mnt/Deltalake/silver_Zone/Customer_Dimension\")"
   ]
  },
  {
   "cell_type": "code",
   "execution_count": 0,
   "metadata": {
    "application/vnd.databricks.v1+cell": {
     "cellMetadata": {
      "byteLimit": 2048000,
      "rowLimit": 10000
     },
     "inputWidgets": {},
     "nuid": "36d1dbc1-3519-4b9c-afaf-56152c7b4754",
     "showTitle": false,
     "title": ""
    }
   },
   "outputs": [
    {
     "output_type": "display_data",
     "data": {
      "text/html": [
       "<style scoped>\n  .table-result-container {\n    max-height: 300px;\n    overflow: auto;\n  }\n  table, th, td {\n    border: 1px solid black;\n    border-collapse: collapse;\n  }\n  th, td {\n    padding: 5px;\n  }\n  th {\n    text-align: left;\n  }\n</style><div class='table-result-container'><table class='table-result'><thead style='background-color: white'><tr><th>Customer_id</th><th>Customer_Name</th><th>customer_age</th><th>customer_gender</th></tr></thead><tbody><tr><td>1</td><td>ABC0</td><td>28</td><td>F</td></tr><tr><td>2</td><td>ABC1</td><td>40</td><td>M</td></tr><tr><td>3</td><td>ABC2</td><td>45</td><td>F</td></tr><tr><td>4</td><td>ABC3</td><td>58</td><td>M</td></tr><tr><td>5</td><td>ABC4</td><td>59</td><td>F</td></tr><tr><td>6</td><td>ABC5</td><td>55</td><td>M</td></tr><tr><td>7</td><td>ABC6</td><td>23</td><td>F</td></tr><tr><td>8</td><td>ABC7</td><td>36</td><td>M</td></tr><tr><td>9</td><td>ABC8</td><td>65</td><td>F</td></tr><tr><td>10</td><td>ABC9</td><td>20</td><td>M</td></tr><tr><td>11</td><td>ABC10</td><td>45</td><td>F</td></tr><tr><td>12</td><td>ABC11</td><td>18</td><td>M</td></tr><tr><td>13</td><td>ABC12</td><td>34</td><td>F</td></tr><tr><td>14</td><td>ABC13</td><td>29</td><td>M</td></tr><tr><td>15</td><td>ABC14</td><td>36</td><td>F</td></tr><tr><td>16</td><td>ABC15</td><td>61</td><td>M</td></tr><tr><td>17</td><td>ABC16</td><td>27</td><td>F</td></tr><tr><td>18</td><td>ABC17</td><td>49</td><td>M</td></tr><tr><td>19</td><td>ABC18</td><td>56</td><td>F</td></tr><tr><td>20</td><td>ABC19</td><td>65</td><td>M</td></tr><tr><td>21</td><td>ABC20</td><td>60</td><td>F</td></tr><tr><td>22</td><td>ABC21</td><td>65</td><td>M</td></tr><tr><td>23</td><td>ABC22</td><td>22</td><td>F</td></tr><tr><td>24</td><td>ABC23</td><td>29</td><td>M</td></tr><tr><td>25</td><td>ABC24</td><td>25</td><td>F</td></tr><tr><td>26</td><td>ABC25</td><td>31</td><td>M</td></tr><tr><td>27</td><td>ABC26</td><td>65</td><td>F</td></tr><tr><td>28</td><td>ABC27</td><td>36</td><td>M</td></tr><tr><td>29</td><td>ABC28</td><td>38</td><td>F</td></tr><tr><td>30</td><td>ABC29</td><td>56</td><td>M</td></tr><tr><td>31</td><td>ABC30</td><td>53</td><td>F</td></tr><tr><td>32</td><td>ABC31</td><td>57</td><td>M</td></tr><tr><td>33</td><td>ABC32</td><td>31</td><td>F</td></tr><tr><td>34</td><td>ABC33</td><td>36</td><td>M</td></tr><tr><td>35</td><td>ABC34</td><td>31</td><td>F</td></tr><tr><td>36</td><td>ABC35</td><td>27</td><td>M</td></tr><tr><td>37</td><td>ABC36</td><td>60</td><td>F</td></tr><tr><td>38</td><td>ABC37</td><td>34</td><td>M</td></tr><tr><td>39</td><td>ABC38</td><td>25</td><td>F</td></tr><tr><td>40</td><td>ABC39</td><td>51</td><td>M</td></tr></tbody></table></div>"
      ]
     },
     "metadata": {
      "application/vnd.databricks.v1+output": {
       "addedWidgets": {},
       "aggData": [],
       "aggError": "",
       "aggOverflow": false,
       "aggSchema": [],
       "aggSeriesLimitReached": false,
       "aggType": "",
       "arguments": {},
       "columnCustomDisplayInfos": {},
       "data": [
        [
         1,
         "ABC0",
         28,
         "F"
        ],
        [
         2,
         "ABC1",
         40,
         "M"
        ],
        [
         3,
         "ABC2",
         45,
         "F"
        ],
        [
         4,
         "ABC3",
         58,
         "M"
        ],
        [
         5,
         "ABC4",
         59,
         "F"
        ],
        [
         6,
         "ABC5",
         55,
         "M"
        ],
        [
         7,
         "ABC6",
         23,
         "F"
        ],
        [
         8,
         "ABC7",
         36,
         "M"
        ],
        [
         9,
         "ABC8",
         65,
         "F"
        ],
        [
         10,
         "ABC9",
         20,
         "M"
        ],
        [
         11,
         "ABC10",
         45,
         "F"
        ],
        [
         12,
         "ABC11",
         18,
         "M"
        ],
        [
         13,
         "ABC12",
         34,
         "F"
        ],
        [
         14,
         "ABC13",
         29,
         "M"
        ],
        [
         15,
         "ABC14",
         36,
         "F"
        ],
        [
         16,
         "ABC15",
         61,
         "M"
        ],
        [
         17,
         "ABC16",
         27,
         "F"
        ],
        [
         18,
         "ABC17",
         49,
         "M"
        ],
        [
         19,
         "ABC18",
         56,
         "F"
        ],
        [
         20,
         "ABC19",
         65,
         "M"
        ],
        [
         21,
         "ABC20",
         60,
         "F"
        ],
        [
         22,
         "ABC21",
         65,
         "M"
        ],
        [
         23,
         "ABC22",
         22,
         "F"
        ],
        [
         24,
         "ABC23",
         29,
         "M"
        ],
        [
         25,
         "ABC24",
         25,
         "F"
        ],
        [
         26,
         "ABC25",
         31,
         "M"
        ],
        [
         27,
         "ABC26",
         65,
         "F"
        ],
        [
         28,
         "ABC27",
         36,
         "M"
        ],
        [
         29,
         "ABC28",
         38,
         "F"
        ],
        [
         30,
         "ABC29",
         56,
         "M"
        ],
        [
         31,
         "ABC30",
         53,
         "F"
        ],
        [
         32,
         "ABC31",
         57,
         "M"
        ],
        [
         33,
         "ABC32",
         31,
         "F"
        ],
        [
         34,
         "ABC33",
         36,
         "M"
        ],
        [
         35,
         "ABC34",
         31,
         "F"
        ],
        [
         36,
         "ABC35",
         27,
         "M"
        ],
        [
         37,
         "ABC36",
         60,
         "F"
        ],
        [
         38,
         "ABC37",
         34,
         "M"
        ],
        [
         39,
         "ABC38",
         25,
         "F"
        ],
        [
         40,
         "ABC39",
         51,
         "M"
        ]
       ],
       "datasetInfos": [],
       "dbfsResultPath": null,
       "isJsonSchema": true,
       "metadata": {},
       "overflow": false,
       "plotOptions": {
        "customPlotOptions": {},
        "displayType": "table",
        "pivotAggregation": null,
        "pivotColumns": null,
        "xColumns": null,
        "yColumns": null
       },
       "removedWidgets": [],
       "schema": [
        {
         "metadata": "{}",
         "name": "Customer_id",
         "type": "\"integer\""
        },
        {
         "metadata": "{}",
         "name": "Customer_Name",
         "type": "\"string\""
        },
        {
         "metadata": "{}",
         "name": "customer_age",
         "type": "\"integer\""
        },
        {
         "metadata": "{}",
         "name": "customer_gender",
         "type": "\"string\""
        }
       ],
       "type": "table"
      }
     },
     "output_type": "display_data"
    }
   ],
   "source": [
    "spark.read.load(\"/mnt/Deltalake/silver_Zone/Customer_Dimension\").display()"
   ]
  }
 ],
 "metadata": {
  "application/vnd.databricks.v1+notebook": {
   "dashboards": [],
   "language": "python",
   "notebookMetadata": {
    "mostRecentlyExecutedCommandWithImplicitDF": {
     "commandId": -1,
     "dataframes": [
      "_sqldf"
     ]
    },
    "pythonIndentUnit": 4
   },
   "notebookName": "Customer_Dimension",
   "notebookOrigID": 639055602651902,
   "widgets": {}
  }
 },
 "nbformat": 4,
 "nbformat_minor": 0
}
